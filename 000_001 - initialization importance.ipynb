{
 "cells": [
  {
   "cell_type": "markdown",
   "id": "0f7815e4",
   "metadata": {},
   "source": [
    "# Import Statement"
   ]
  },
  {
   "cell_type": "code",
   "execution_count": null,
   "id": "a44ced5d",
   "metadata": {},
   "outputs": [],
   "source": [
    "import numpy as np\n",
    "import matplotlib.pyplot as plt\n",
    "import matplotlib.animation as animation\n",
    "import torch\n",
    "from IPython.display import HTML\n",
    "from torch import nn\n",
    "from torch import optim"
   ]
  },
  {
   "cell_type": "markdown",
   "id": "7a6f6faf",
   "metadata": {},
   "source": [
    "# Global Setting"
   ]
  },
  {
   "cell_type": "code",
   "execution_count": null,
   "id": "3b43ab9f",
   "metadata": {},
   "outputs": [],
   "source": [
    "plt.rcParams['axes.spines.right'] = False\n",
    "plt.rcParams['axes.spines.top'] = False\n",
    "plt.rcParams['axes.spines.left'] = False\n",
    "plt.rcParams['axes.spines.bottom'] = False"
   ]
  },
  {
   "cell_type": "markdown",
   "id": "e6b2740f",
   "metadata": {},
   "source": [
    "# Data"
   ]
  },
  {
   "cell_type": "code",
   "execution_count": null,
   "id": "e4dea7c1",
   "metadata": {},
   "outputs": [],
   "source": [
    "data_length = 10000\n",
    "x_limits = [ -10.0, 10.0 ]\n",
    "x = np.linspace( x_limits[ 0 ], x_limits[ 1 ], data_length )\n",
    "tensor_x = torch.tensor( x, dtype = torch.float32 ) \\\n",
    "                .reshape( ( -1, 1 ) )"
   ]
  },
  {
   "cell_type": "code",
   "execution_count": null,
   "id": "d8bcc72d",
   "metadata": {},
   "outputs": [],
   "source": [
    "rng = np.random.default_rng( 42 )\n",
    "torch.manual_seed( 4121 )"
   ]
  },
  {
   "cell_type": "code",
   "execution_count": null,
   "id": "b32d80e5",
   "metadata": {},
   "outputs": [],
   "source": [
    "y_2 = x ** 2 - 10 + rng.normal( size = data_length )\n",
    "tensor_y_2 = torch.tensor( y_2, dtype = torch.float32 ) \\\n",
    "                  .reshape( ( -1, 1 ) )\n",
    "plt.scatter( x, y_2, s = 1, color = \"#cccccc\" )\n",
    "plt.show()"
   ]
  },
  {
   "cell_type": "markdown",
   "id": "61c53e62",
   "metadata": {},
   "source": [
    "# Helper Function"
   ]
  },
  {
   "cell_type": "code",
   "execution_count": null,
   "id": "77ac1fac",
   "metadata": {},
   "outputs": [],
   "source": [
    "def create_model( hidden_nodes ):\n",
    "  return nn.Sequential( nn.Linear( 1, hidden_nodes ),\n",
    "                        nn.ReLU(),\n",
    "                        nn.Linear( hidden_nodes, 1 ) )"
   ]
  },
  {
   "cell_type": "code",
   "execution_count": null,
   "id": "aa7b073c",
   "metadata": {},
   "outputs": [],
   "source": [
    "def print_model( model ):\n",
    "  print( \"\\nStructure\")\n",
    "  print( \"------------------------------------------------------\\n\")\n",
    "  print( model )\n",
    "  print( \"\\nParameters\")\n",
    "  print( \"------------------------------------------------------\\n\")\n",
    "  for layer in model:\n",
    "    print( layer )\n",
    "    for p in layer.parameters():\n",
    "      print( p )"
   ]
  },
  {
   "cell_type": "code",
   "execution_count": null,
   "id": "68689b14",
   "metadata": {},
   "outputs": [],
   "source": [
    "def initialize_weight( hidden_nodes, x_limits ):\n",
    "    cutoff_bin = ( x_limits[ 1 ] - x_limits[ 0 ] ) / (hidden_nodes + 1)\n",
    "    def initialize_weight_( model ):\n",
    "        with torch.no_grad():\n",
    "            half_index = int( np.floor( hidden_nodes / 2 ) )\n",
    "            for i, param in enumerate( model.parameters() ):\n",
    "                if i == 0:\n",
    "                    for j, _ in enumerate( param.data ):\n",
    "                        param.data[ j ][ 0 ] = (1 if j < half_index else -1 )\n",
    "                if i == 1:\n",
    "                    for j, _ in enumerate( param.data ):\n",
    "                        param.data[ j ] = np.abs(x_limits[ 0 ] + ( j + 1 ) * cutoff_bin)\n",
    "                if i >= 2:\n",
    "                    param.data.fill_( 0 )\n",
    "    return initialize_weight_"
   ]
  },
  {
   "cell_type": "code",
   "execution_count": null,
   "id": "7f3c8788",
   "metadata": {},
   "outputs": [],
   "source": [
    "def fit( model,\n",
    "         learning_rate,\n",
    "         tensor_x,\n",
    "         tensor_y,\n",
    "         save_file_path = \"fit.mp4\",\n",
    "         loss_function = nn.MSELoss(),\n",
    "         animate = True,\n",
    "         n_epochs = 100,\n",
    "         linestyles = [ \"dotted\", \"dashed\", \"dashdot\" ],\n",
    "         colors = [ \"#a6cee3\", \"#1f78b4\", \"#b2df8a\", \"#33a02c\", \"#fb9a99\", \"#e31a1c\",\n",
    "                    \"#fdbf6f\", \"#ff7f00\", \"#cab2d6\", \"#6a3d9a\", \"#ffff99\", \"#b15928\" ] ):\n",
    "\n",
    "  optimizer = optim.Adam( params = model.parameters(), lr = learning_rate )\n",
    "  \n",
    "  colors_length = len( colors )\n",
    "\n",
    "  linestyles_length = len( linestyles )\n",
    "\n",
    "  hidden_nodes = model[ 0 ].weight.size()[ 0 ]\n",
    "\n",
    "  losses = []\n",
    "\n",
    "  single_relu_limits = []\n",
    "\n",
    "  all_relu_x_limits = []\n",
    "  components_y_limits = []\n",
    "  y_limits = []\n",
    "  tensor_y_min = tensor_y.min().item()\n",
    "  tensor_y_max = tensor_y.max().item()\n",
    "\n",
    "  activation = {}\n",
    "  def get_activation( index ):\n",
    "    def hook(model, input, output):\n",
    "        activation[ index ] = output.detach()\n",
    "    return hook\n",
    "\n",
    "\n",
    "  model[ 1 ].register_forward_hook(get_activation( 1 ))\n",
    "\n",
    "  for epoch in range( n_epochs ):\n",
    "\n",
    "    predicted = model( tensor_x )\n",
    "    loss = loss_function( predicted, tensor_y )\n",
    "\n",
    "    with torch.no_grad():\n",
    "      before_relu_parameters = np.array( [ param.flatten().tolist()\n",
    "                                            for param in model.parameters() ][:2] )\n",
    "      relu_x_limits = ( -before_relu_parameters[ 1 ] /\n",
    "                      before_relu_parameters[ 0 ] ).tolist() + x_limits\n",
    "      relu_x_limits.sort()\n",
    "      single_relu_limits.append(relu_x_limits[1:-1])\n",
    "      all_relu_x_limits.append( relu_x_limits )\n",
    "      predicted_x_limits = model( torch.tensor( relu_x_limits ).reshape( ( -1, 1 ) ) )\n",
    "      components_y_limits.append( activation[ 1 ].transpose( 0, 1 ).tolist() )\n",
    "      losses.append( loss.item() )\n",
    "      y_limits.append( predicted_x_limits.flatten().tolist() )\n",
    "\n",
    "    optimizer.zero_grad()\n",
    "    loss.backward()\n",
    "    optimizer.step()\n",
    "\n",
    "  with torch.no_grad():\n",
    "    loss = loss_function( predicted, tensor_y )\n",
    "    before_relu_parameters = np.array( [ param.flatten().tolist()\n",
    "                                          for param in model.parameters() ][:2] )\n",
    "    relu_x_limits = ( -before_relu_parameters[ 1 ] /\n",
    "                        before_relu_parameters[ 0 ] ).tolist() + x_limits\n",
    "    relu_x_limits.sort()\n",
    "    single_relu_limits.append(relu_x_limits[1:-1])\n",
    "    all_relu_x_limits.append( relu_x_limits )\n",
    "    predicted_x_limits = model( torch.tensor( relu_x_limits ).reshape( ( -1, 1 ) ) )\n",
    "    components_y_limits.append( activation[ 1 ].transpose( 0, 1 ).tolist() )\n",
    "    losses.append( loss.item() )\n",
    "    y_limits.append( predicted_x_limits.flatten().tolist() )\n",
    "\n",
    "  if not animate:\n",
    "      return None\n",
    "\n",
    "  losses_indices = [ i for i in range( len( losses ) ) ]\n",
    "\n",
    "  fig, ( ax_1, ax_2 ) = plt.subplots( 1, 2 )\n",
    "  fig.set_size_inches( 8, 4 )\n",
    "\n",
    "  ax_1.set_title( \"Data VS Approximation\", pad = 20 )\n",
    "  ax_1.set( xlabel = \"x\", ylabel = \"y\" )\n",
    "  y_nl = tensor_y.numpy()\n",
    "  ax_1.axis([ x_limits[ 0 ], x_limits[ 1 ],\n",
    "              y_nl.min(), y_nl.max() ])\n",
    "\n",
    "  ax_1.scatter( x, y_nl, s = 1, color = \"#cccccc\" )\n",
    "  components = []\n",
    "  for j in range( hidden_nodes ):\n",
    "      cl, = ax_1.plot( [], [],\n",
    "                       color = colors[ j % colors_length ],\n",
    "                       linestyle = linestyles[ j % linestyles_length ] )\n",
    "      components.append( cl )\n",
    "  v_1 = ax_1.vlines( [], tensor_y_min, tensor_y_max, colors = \"#cccccc\" )\n",
    "  l_1, = ax_1.plot( [], [], color = \"black\" )\n",
    "  l_2, = ax_2.plot( [], [], color = \"red\" )\n",
    "  annotations = []\n",
    "  for i in range( hidden_nodes + 1 ):\n",
    "    ann = ax_1.annotate(\n",
    "        \"\",\n",
    "        xy = (0,0),\n",
    "        ha = \"center\",\n",
    "        va = \"top\",\n",
    "        color = \"#aaaaaa\" )\n",
    "    annotations.append(ann)\n",
    "\n",
    "  ax_2.set_title( \"Error progression\", pad = 20 )\n",
    "  ax_2.set( xlabel = \"epoch\", ylabel = \"error\" )\n",
    "  min_loss = np.min( losses )\n",
    "  max_loss = np.max( losses )\n",
    "  ax_2.axis([ losses_indices[ 0 ], losses_indices[ -1 ],\n",
    "              min_loss, max_loss ])\n",
    "  error_ann = ax_2.annotate(\n",
    "      \"\",\n",
    "      xy = ( losses_indices[ -1 ], max_loss ),\n",
    "      position = ( losses_indices[ -1 ], max_loss ),\n",
    "      ha = \"right\",\n",
    "      va = \"top\",\n",
    "      color = \"red\" )\n",
    "\n",
    "  plt.subplots_adjust(left=0.09, right=0.95, top=0.85, bottom=0.15)\n",
    "  plt.close()\n",
    "\n",
    "  def animate( i ):\n",
    "    for j in range( hidden_nodes ):\n",
    "      components[ j ].set_data( all_relu_x_limits[ i ], components_y_limits[ i ][ j ] )\n",
    "    l_1.set_data( all_relu_x_limits[ i ], y_limits[ i ] )\n",
    "    v_1.set_segments( [np.array([[xx, tensor_y_min],\n",
    "                         [xx, tensor_y_max]]) for xx in single_relu_limits[ i ]]  )\n",
    "    for j, ann in enumerate( annotations ):\n",
    "      new_pos = ( np.mean([ all_relu_x_limits[ i ][ j ], all_relu_x_limits[ i ][ j + 1 ] ]), tensor_y_max )\n",
    "      ann.set_position( new_pos )\n",
    "      ann.xy = new_pos\n",
    "      ann.set_text( \"$R_{}$\".format( j + 1 ) )\n",
    "    \n",
    "    error_ann.set_text( \"Error: {:.2f}\".format( losses[ i ] ) )\n",
    "    l_2.set_data( losses_indices[ :i ], losses[ :i ] )\n",
    "\n",
    "  ani = animation.FuncAnimation( fig, animate, frames = len( losses ) )\n",
    "\n",
    "  ani.save( save_file_path )\n",
    "\n",
    "  return ani.to_jshtml()"
   ]
  },
  {
   "cell_type": "markdown",
   "id": "f5427e80",
   "metadata": {},
   "source": [
    "# Training"
   ]
  },
  {
   "cell_type": "markdown",
   "id": "81a13954",
   "metadata": {},
   "source": [
    "## Model 1"
   ]
  },
  {
   "cell_type": "code",
   "execution_count": null,
   "id": "68288a38",
   "metadata": {},
   "outputs": [],
   "source": [
    "hidden_nodes = 2\n",
    "model_1 = create_model( hidden_nodes )\n",
    "initialize_weight( hidden_nodes, [ -9, 9 ] )( model_1 )\n",
    "print_model( model_1 )"
   ]
  },
  {
   "cell_type": "code",
   "execution_count": null,
   "id": "119bc57c",
   "metadata": {},
   "outputs": [],
   "source": [
    "jshtml_1 = fit( model_1, 0.5, tensor_x, tensor_y_2, \"good-fit.mp4\", colors = [ \"blue\", \"green\" ] )\n",
    "with torch.no_grad():\n",
    "   print( nn.MSELoss()( model_1( tensor_x ), tensor_y_2 ).item() )\n",
    "HTML( jshtml_1 )"
   ]
  },
  {
   "cell_type": "markdown",
   "id": "8c43b684",
   "metadata": {},
   "source": [
    "## Model 2"
   ]
  },
  {
   "cell_type": "code",
   "execution_count": null,
   "id": "b697df4e",
   "metadata": {},
   "outputs": [],
   "source": [
    "hidden_nodes = 2\n",
    "model_2 = create_model( hidden_nodes )\n",
    "initialize_weight( hidden_nodes, [ -9, 9 ] )( model_2 )\n",
    "with torch.no_grad():\n",
    "  model_2[ 0 ].weight[ 1 ][ 0 ] *= -1\n",
    "  model_2[ 0 ].bias[ 1 ] *= -1\n",
    "print_model( model_2 )"
   ]
  },
  {
   "cell_type": "code",
   "execution_count": null,
   "id": "8e4dc95f",
   "metadata": {},
   "outputs": [],
   "source": [
    "jshtml_2 = fit( model_2, 0.5, tensor_x, tensor_y_2, \"bad-fit.mp4\", colors = [ \"blue\", \"green\" ] )\n",
    "with torch.no_grad():\n",
    "   print( nn.MSELoss()( model_2( tensor_x ), tensor_y_2 ).item() )\n",
    "HTML( jshtml_2 )"
   ]
  }
 ],
 "metadata": {
  "kernelspec": {
   "display_name": "DeepLearning",
   "language": "python",
   "name": "python3"
  },
  "language_info": {
   "codemirror_mode": {
    "name": "ipython",
    "version": 3
   },
   "file_extension": ".py",
   "mimetype": "text/x-python",
   "name": "python",
   "nbconvert_exporter": "python",
   "pygments_lexer": "ipython3",
   "version": "3.10.15"
  }
 },
 "nbformat": 4,
 "nbformat_minor": 5
}
